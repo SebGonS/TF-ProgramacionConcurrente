{
 "cells": [
  {
   "cell_type": "code",
   "execution_count": 2,
   "metadata": {},
   "outputs": [],
   "source": [
    "import pandas as pd"
   ]
  },
  {
   "cell_type": "code",
   "execution_count": 3,
   "metadata": {},
   "outputs": [],
   "source": [
    "df = pd.read_csv(\"data_raw.csv\")"
   ]
  },
  {
   "cell_type": "code",
   "execution_count": 4,
   "metadata": {},
   "outputs": [
    {
     "data": {
      "text/html": [
       "<div>\n",
       "<style scoped>\n",
       "    .dataframe tbody tr th:only-of-type {\n",
       "        vertical-align: middle;\n",
       "    }\n",
       "\n",
       "    .dataframe tbody tr th {\n",
       "        vertical-align: top;\n",
       "    }\n",
       "\n",
       "    .dataframe thead th {\n",
       "        text-align: right;\n",
       "    }\n",
       "</style>\n",
       "<table border=\"1\" class=\"dataframe\">\n",
       "  <thead>\n",
       "    <tr style=\"text-align: right;\">\n",
       "      <th></th>\n",
       "      <th>Unnamed: 0</th>\n",
       "      <th>review_id</th>\n",
       "      <th>product_id</th>\n",
       "      <th>reviewer_id</th>\n",
       "      <th>stars</th>\n",
       "      <th>review_body</th>\n",
       "      <th>review_title</th>\n",
       "      <th>language</th>\n",
       "      <th>product_category</th>\n",
       "    </tr>\n",
       "  </thead>\n",
       "  <tbody>\n",
       "    <tr>\n",
       "      <th>0</th>\n",
       "      <td>0</td>\n",
       "      <td>de_0203609</td>\n",
       "      <td>product_de_0865382</td>\n",
       "      <td>reviewer_de_0267719</td>\n",
       "      <td>1</td>\n",
       "      <td>Armband ist leider nach 1 Jahr kaputt gegangen</td>\n",
       "      <td>Leider nach 1 Jahr kaputt</td>\n",
       "      <td>de</td>\n",
       "      <td>sports</td>\n",
       "    </tr>\n",
       "    <tr>\n",
       "      <th>1</th>\n",
       "      <td>1</td>\n",
       "      <td>de_0559494</td>\n",
       "      <td>product_de_0678997</td>\n",
       "      <td>reviewer_de_0783625</td>\n",
       "      <td>1</td>\n",
       "      <td>In der Lieferung war nur Ein Akku!</td>\n",
       "      <td>EINS statt ZWEI Akkus!!!</td>\n",
       "      <td>de</td>\n",
       "      <td>home_improvement</td>\n",
       "    </tr>\n",
       "    <tr>\n",
       "      <th>2</th>\n",
       "      <td>2</td>\n",
       "      <td>de_0238777</td>\n",
       "      <td>product_de_0372235</td>\n",
       "      <td>reviewer_de_0911426</td>\n",
       "      <td>1</td>\n",
       "      <td>Ein Stern, weil gar keine geht nicht. Es hande...</td>\n",
       "      <td>Achtung Abzocke</td>\n",
       "      <td>de</td>\n",
       "      <td>drugstore</td>\n",
       "    </tr>\n",
       "    <tr>\n",
       "      <th>3</th>\n",
       "      <td>3</td>\n",
       "      <td>de_0477884</td>\n",
       "      <td>product_de_0719501</td>\n",
       "      <td>reviewer_de_0836478</td>\n",
       "      <td>1</td>\n",
       "      <td>Dachte, das wären einfach etwas festere Binden...</td>\n",
       "      <td>Zu viel des Guten</td>\n",
       "      <td>de</td>\n",
       "      <td>drugstore</td>\n",
       "    </tr>\n",
       "    <tr>\n",
       "      <th>4</th>\n",
       "      <td>4</td>\n",
       "      <td>de_0270868</td>\n",
       "      <td>product_de_0022613</td>\n",
       "      <td>reviewer_de_0736276</td>\n",
       "      <td>1</td>\n",
       "      <td>Meine Kinder haben kaum damit gespielt und nac...</td>\n",
       "      <td>Qualität sehr schlecht</td>\n",
       "      <td>de</td>\n",
       "      <td>toy</td>\n",
       "    </tr>\n",
       "  </tbody>\n",
       "</table>\n",
       "</div>"
      ],
      "text/plain": [
       "   Unnamed: 0   review_id          product_id          reviewer_id  stars  \\\n",
       "0           0  de_0203609  product_de_0865382  reviewer_de_0267719      1   \n",
       "1           1  de_0559494  product_de_0678997  reviewer_de_0783625      1   \n",
       "2           2  de_0238777  product_de_0372235  reviewer_de_0911426      1   \n",
       "3           3  de_0477884  product_de_0719501  reviewer_de_0836478      1   \n",
       "4           4  de_0270868  product_de_0022613  reviewer_de_0736276      1   \n",
       "\n",
       "                                         review_body  \\\n",
       "0     Armband ist leider nach 1 Jahr kaputt gegangen   \n",
       "1                 In der Lieferung war nur Ein Akku!   \n",
       "2  Ein Stern, weil gar keine geht nicht. Es hande...   \n",
       "3  Dachte, das wären einfach etwas festere Binden...   \n",
       "4  Meine Kinder haben kaum damit gespielt und nac...   \n",
       "\n",
       "                review_title language  product_category  \n",
       "0  Leider nach 1 Jahr kaputt       de            sports  \n",
       "1   EINS statt ZWEI Akkus!!!       de  home_improvement  \n",
       "2            Achtung Abzocke       de         drugstore  \n",
       "3          Zu viel des Guten       de         drugstore  \n",
       "4     Qualität sehr schlecht       de               toy  "
      ]
     },
     "execution_count": 4,
     "metadata": {},
     "output_type": "execute_result"
    }
   ],
   "source": [
    "df.head()"
   ]
  },
  {
   "cell_type": "code",
   "execution_count": 8,
   "metadata": {},
   "outputs": [],
   "source": [
    "# Eliminar filas con valores nulos en columnas clave\n",
    "columnas_clave = ['review_id', 'product_id', 'reviewer_id', 'stars', 'review_body', 'review_title', 'language', 'product_category']\n",
    "df = df.dropna(subset=columnas_clave)"
   ]
  },
  {
   "cell_type": "code",
   "execution_count": 9,
   "metadata": {},
   "outputs": [],
   "source": [
    "# Asegurarse de que 'stars' sea un valor numérico\n",
    "df['stars'] = df['stars'].astype(int)"
   ]
  },
  {
   "cell_type": "code",
   "execution_count": 10,
   "metadata": {},
   "outputs": [],
   "source": [
    "\n",
    "# Normalización de texto\n",
    "df['review_body'] = df['review_body'].str.lower().str.replace('[^\\w\\s]', '', regex=True)\n",
    "df['review_title'] = df['review_title'].str.lower().str.replace('[^\\w\\s]', '', regex=True)"
   ]
  },
  {
   "cell_type": "code",
   "execution_count": 11,
   "metadata": {},
   "outputs": [
    {
     "data": {
      "text/plain": [
       "(1199957, 9)"
      ]
     },
     "execution_count": 11,
     "metadata": {},
     "output_type": "execute_result"
    }
   ],
   "source": [
    "df.shape"
   ]
  },
  {
   "cell_type": "code",
   "execution_count": 5,
   "metadata": {},
   "outputs": [
    {
     "data": {
      "text/plain": [
       "Unnamed: 0           int64\n",
       "review_id           object\n",
       "product_id          object\n",
       "reviewer_id         object\n",
       "stars                int64\n",
       "review_body         object\n",
       "review_title        object\n",
       "language            object\n",
       "product_category    object\n",
       "dtype: object"
      ]
     },
     "execution_count": 5,
     "metadata": {},
     "output_type": "execute_result"
    }
   ],
   "source": [
    "df.dtypes"
   ]
  },
  {
   "cell_type": "code",
   "execution_count": 12,
   "metadata": {},
   "outputs": [],
   "source": [
    "df.to_csv(\"data.csv\", index=False)"
   ]
  }
 ],
 "metadata": {
  "kernelspec": {
   "display_name": "Python 3",
   "language": "python",
   "name": "python3"
  },
  "language_info": {
   "codemirror_mode": {
    "name": "ipython",
    "version": 3
   },
   "file_extension": ".py",
   "mimetype": "text/x-python",
   "name": "python",
   "nbconvert_exporter": "python",
   "pygments_lexer": "ipython3",
   "version": "3.11.5"
  }
 },
 "nbformat": 4,
 "nbformat_minor": 2
}
